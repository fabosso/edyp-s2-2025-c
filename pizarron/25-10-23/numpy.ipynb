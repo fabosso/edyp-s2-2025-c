{
 "cells": [
  {
   "cell_type": "markdown",
   "id": "c31ed75d",
   "metadata": {},
   "source": [
    "## Creación de arrays - Fundamentos"
   ]
  },
  {
   "cell_type": "code",
   "execution_count": 1,
   "id": "e1b218af",
   "metadata": {},
   "outputs": [
    {
     "name": "stdout",
     "output_type": "stream",
     "text": [
      "NumPy version: 2.3.4\n"
     ]
    }
   ],
   "source": [
    "# Celda de imports\n",
    "import numpy as np\n",
    "\n",
    "print(\"NumPy version:\", np.__version__)"
   ]
  },
  {
   "cell_type": "code",
   "execution_count": 2,
   "id": "97c07cba",
   "metadata": {},
   "outputs": [
    {
     "name": "stdout",
     "output_type": "stream",
     "text": [
      "Array 1D: [1 2 3 4 5]\n",
      "Array 2D:\n",
      " [[1 2 3]\n",
      " [4 5 6]]\n",
      "Array 3D shape: (2, 2, 2)\n",
      "\n",
      "Zeros 3x4:\n",
      " [[0. 0. 0. 0.]\n",
      " [0. 0. 0. 0.]\n",
      " [0. 0. 0. 0.]]\n",
      "\n",
      "Identidad 3x3:\n",
      " [[1. 0. 0.]\n",
      " [0. 1. 0.]\n",
      " [0. 0. 1.]]\n",
      "\n",
      "Arange: [0 2 4 6 8]\n",
      "Linspace: [0.   0.25 0.5  0.75 1.  ]\n"
     ]
    }
   ],
   "source": [
    "# Arrays básicos\n",
    "arr_1d = np.array([1, 2, 3, 4, 5])\n",
    "arr_2d = np.array([[1, 2, 3],\n",
    "                   [4, 5, 6]])\n",
    "arr_3d = np.array([[[1, 2], [3, 4]], [[5, 6], [7, 8]]])\n",
    "\n",
    "print(\"Array 1D:\", arr_1d)\n",
    "print(\"Array 2D:\\n\", arr_2d)\n",
    "print(\"Array 3D shape:\", arr_3d.shape)\n",
    "\n",
    "# Funciones de creación útiles\n",
    "zeros = np.zeros((3, 4))\n",
    "ones = np.ones((2, 3))\n",
    "identity = np.eye(3)\n",
    "random_vals = np.random.random((2, 3))\n",
    "\n",
    "print(\"\\nZeros 3x4:\\n\", zeros)\n",
    "print(\"\\nIdentidad 3x3:\\n\", identity)\n",
    "\n",
    "# Rangos y secuencias\n",
    "range_arr = np.arange(0, 10, 2)  # inicio, fin, paso\n",
    "linspace_arr = np.linspace(0, 1, 5)  # inicio, fin, cantidad\n",
    "\n",
    "print(\"\\nArange:\", range_arr)\n",
    "print(\"Linspace:\", linspace_arr)"
   ]
  },
  {
   "cell_type": "markdown",
   "id": "eaacd693",
   "metadata": {},
   "source": [
    "## Propiedades de los arrays"
   ]
  },
  {
   "cell_type": "code",
   "execution_count": 3,
   "id": "64e6bfab",
   "metadata": {},
   "outputs": [
    {
     "name": "stdout",
     "output_type": "stream",
     "text": [
      "Array ejemplo:\n",
      " [[ 3 16 92 90 17]\n",
      " [25 15 23 94 91]\n",
      " [56 28 59 76 38]\n",
      " [10 67 99  9 55]]\n",
      "Shape: (4, 5)\n",
      "Dimensiones: 2\n",
      "Tamaño total: 20\n",
      "Tipo de datos: int64\n",
      "Bytes por elemento: 8\n"
     ]
    }
   ],
   "source": [
    "data = np.random.randint(0, 100, (4, 5))\n",
    "print(\"Array ejemplo:\\n\", data)\n",
    "print(f\"Shape: {data.shape}\")\n",
    "print(f\"Dimensiones: {data.ndim}\")\n",
    "print(f\"Tamaño total: {data.size}\")\n",
    "print(f\"Tipo de datos: {data.dtype}\")\n",
    "print(f\"Bytes por elemento: {data.itemsize}\")"
   ]
  },
  {
   "cell_type": "markdown",
   "id": "c0e14f43",
   "metadata": {},
   "source": [
    "## Indexado y slice"
   ]
  },
  {
   "cell_type": "code",
   "execution_count": 4,
   "id": "556b6a20",
   "metadata": {},
   "outputs": [
    {
     "name": "stdout",
     "output_type": "stream",
     "text": [
      "Array base:\n",
      " [[ 0  1  2  3  4]\n",
      " [ 5  6  7  8  9]\n",
      " [10 11 12 13 14]\n",
      " [15 16 17 18 19]]\n",
      "\n",
      "Elemento [1,2]: 7\n",
      "Primera fila: [0 1 2 3 4]\n",
      "Segunda columna: [ 1  6 11 16]\n",
      "\n",
      "Primeras 2 filas, columnas 1-3:\n",
      " [[1 2 3]\n",
      " [6 7 8]]\n",
      "Cada segunda fila:\n",
      " [[ 0  1  2  3  4]\n",
      " [10 11 12 13 14]]\n",
      "\n",
      "Elementos > 10: [11 12 13 14 15 16 17 18 19]\n",
      "Filas seleccionadas [0,2,3]:\n",
      " [[ 0  1  2  3  4]\n",
      " [10 11 12 13 14]\n",
      " [15 16 17 18 19]]\n"
     ]
    }
   ],
   "source": [
    "arr = np.array([[0, 1, 2, 3, 4],\n",
    "               [5, 6, 7, 8, 9],\n",
    "               [10, 11, 12, 13, 14],\n",
    "               [15, 16, 17, 18, 19]])\n",
    "print(\"Array base:\\n\", arr)\n",
    "\n",
    "# Indexing básico\n",
    "print(\"\\nElemento [1,2]:\", arr[1, 2])\n",
    "print(\"Primera fila:\", arr[0, :])\n",
    "print(\"Segunda columna:\", arr[:, 1])\n",
    "\n",
    "# Slicing avanzado\n",
    "print(\"\\nPrimeras 2 filas, columnas 1-3:\\n\", arr[:2, 1:4])\n",
    "print(\"Cada segunda fila:\\n\", arr[::2, :])\n",
    "\n",
    "# Boolean indexing\n",
    "mask = arr > 10\n",
    "print(\"\\nElementos > 10:\", arr[mask])\n",
    "\n",
    "# Fancy indexing\n",
    "indices = [0, 2, 3]\n",
    "print(\"Filas seleccionadas [0,2,3]:\\n\", arr[indices, :])"
   ]
  },
  {
   "cell_type": "markdown",
   "id": "f65c3ed3",
   "metadata": {},
   "source": [
    "## Reshape y manipulaciones de forma"
   ]
  },
  {
   "cell_type": "code",
   "execution_count": 5,
   "id": "9158c730",
   "metadata": {},
   "outputs": [
    {
     "name": "stdout",
     "output_type": "stream",
     "text": [
      "Original: [ 0  1  2  3  4  5  6  7  8  9 10 11]\n",
      "Reshape 3x4 del vector original:\n",
      " [[ 0  1  2  3]\n",
      " [ 4  5  6  7]\n",
      " [ 8  9 10 11]]\n",
      "Flatten de la matriz reshaped: [ 0  1  2  3  4  5  6  7  8  9 10 11]\n",
      "Matriz transpuesta:\n",
      " [[ 0  4  8]\n",
      " [ 1  5  9]\n",
      " [ 2  6 10]\n",
      " [ 3  7 11]]\n",
      "\n",
      "Concatenación vertical:\n",
      " [[1 2]\n",
      " [3 4]\n",
      " [5 6]\n",
      " [7 8]]\n",
      "Concatenación horizontal:\n",
      " [[1 2 5 6]\n",
      " [3 4 7 8]]\n"
     ]
    }
   ],
   "source": [
    "original = np.arange(12) # vector del 0 al 11\n",
    "print(\"Original:\", original)\n",
    "\n",
    "# Reshape\n",
    "reshaped = original.reshape(3, 4)\n",
    "print(\"Reshape 3x4 del vector original:\\n\", reshaped)\n",
    "\n",
    "# Flatten\n",
    "flattened = reshaped.flatten()\n",
    "print(\"Flatten de la matriz reshaped:\", flattened)\n",
    "\n",
    "# Transpose\n",
    "transposed = reshaped.T\n",
    "print(\"Matriz transpuesta:\\n\", transposed)\n",
    "\n",
    "# Concatenación\n",
    "arr1 = np.array([[1, 2],\n",
    "                 [3, 4]])\n",
    "arr2 = np.array([[5, 6],\n",
    "                 [7, 8]])\n",
    "\n",
    "concat_v = np.vstack([arr1, arr2])  # vertical\n",
    "concat_h = np.hstack([arr1, arr2])  # horizontal\n",
    "\n",
    "print(\"\\nConcatenación vertical:\\n\", concat_v)\n",
    "print(\"Concatenación horizontal:\\n\", concat_h)"
   ]
  },
  {
   "cell_type": "markdown",
   "id": "aae69672",
   "metadata": {},
   "source": [
    "## Broadcasting"
   ]
  },
  {
   "cell_type": "code",
   "execution_count": null,
   "id": "21d7915a",
   "metadata": {},
   "outputs": [],
   "source": [
    "# Broadcasting básico\n",
    "arr = np.array([[1, 2, 3], [4, 5, 6]])\n",
    "k = 10\n",
    "\n",
    "print(\"Array original:\\n\", arr)\n",
    "print(\"\\nArray + 10:\\n\", arr + k)\n",
    "\n",
    "# Broadcasting con arrays\n",
    "row_vector = np.array([1, 2, 3])\n",
    "col_vector = np.array([[10],\n",
    "                       [20]])\n",
    "\n",
    "print(\"\\nRow vector:\", row_vector)\n",
    "print(\"Col vector:\\n\", col_vector)\n",
    "print(\"Broadcasting sum:\\n\", row_vector + col_vector)"
   ]
  },
  {
   "cell_type": "markdown",
   "id": "d3d82b97",
   "metadata": {},
   "source": [
    "## Operaciones aritméticas"
   ]
  },
  {
   "cell_type": "code",
   "execution_count": null,
   "id": "0acf53a0",
   "metadata": {},
   "outputs": [],
   "source": [
    "a = np.array([1, 2, 3, 4])\n",
    "b = np.array([5, 6, 7, 8])\n",
    "\n",
    "print(\"a =\", a)\n",
    "print(\"b =\", b)\n",
    "\n",
    "# Operaciones elemento a elemento\n",
    "print(\"\\nSuma:\", a + b)\n",
    "print(\"Multiplicación:\", a * b)\n",
    "print(\"Potencia:\", a**2)\n",
    "\n",
    "# Operaciones matriciales\n",
    "matrix_a = np.array([[1, 2],\n",
    "                     [3, 4]])\n",
    "matrix_b = np.array([[5, 6],\n",
    "                     [7, 8]])\n",
    "\n",
    "print(\"\\nMatriz A:\\n\", matrix_a)\n",
    "print(\"Matriz B:\\n\", matrix_b)\n",
    "print(\"Producto matricial A @ B:\\n\", matrix_a @ matrix_b)\n",
    "\n",
    "# Funciones\n",
    "x = np.linspace(0, 2 * np.pi, 17) # vector linealmente espaciado entre 0 y 2pi, 9 elementos\n",
    "print(\"\\nSeno de x:\", np.sin(x))\n",
    "print(\"\\nSeno de x:\", np.round(np.sin(x), 2))\n",
    "print(\"\\nExponencial:\", np.exp([1, 2, 3]))"
   ]
  },
  {
   "cell_type": "markdown",
   "id": "fb646352",
   "metadata": {},
   "source": [
    "## Operaciones estadísticas"
   ]
  },
  {
   "cell_type": "code",
   "execution_count": null,
   "id": "6feb312e",
   "metadata": {},
   "outputs": [],
   "source": [
    "data = np.random.normal(50, 15, 100)  # media=50, std=15, 100 elementos\n",
    "\n",
    "print(f\"Media: {np.mean(data):.2f}\")\n",
    "print(f\"Mediana: {np.median(data):.2f}\")\n",
    "print(f\"Desviación estándar: {np.std(data):.2f}\")\n",
    "print(f\"Mínimo: {np.min(data):.2f}\")\n",
    "print(f\"Máximo: {np.max(data):.2f}\")\n",
    "\n",
    "# Agregaciones por eje\n",
    "matrix = np.random.randint(1, 10, (3, 4)) # random entre 1 y 10, tamaño 3x4\n",
    "print(\"\\nMatriz:\\n\", matrix)\n",
    "print(\"Suma por filas (axis=1):\", np.sum(matrix, axis=1))\n",
    "print(\"Media por columnas (axis=0):\", np.mean(matrix, axis=0))"
   ]
  },
  {
   "cell_type": "markdown",
   "id": "03f91692",
   "metadata": {},
   "source": [
    "## Sistemas de ecuaciones lineales"
   ]
  },
  {
   "cell_type": "code",
   "execution_count": null,
   "id": "c71a4f88",
   "metadata": {},
   "outputs": [
    {
     "name": "stdout",
     "output_type": "stream",
     "text": [
      "Solución >  [-4.  6.  1.]\n"
     ]
    }
   ],
   "source": [
    "# Sistema de ecuaciones lineal => ecuación matricial AX = B\n",
    "\n",
    "# Por ejemplo:\n",
    "# 3x + 2y + z = 1\n",
    "# 5x + 3y + 4z = 2\n",
    "# x + y - z = 1\n",
    "\n",
    "A = np.array([[3, 2, 1],\n",
    "              [5, 3, 4],\n",
    "              [1, 1, -1]])\n",
    "B = np.array([1,\n",
    "              2,\n",
    "              1])\n",
    "\n",
    "X = np.linalg.solve(A, B)\n",
    "print(\"Solución >\", X)"
   ]
  },
  {
   "cell_type": "markdown",
   "id": "8e32afe7",
   "metadata": {},
   "source": [
    "## Comparación de performance"
   ]
  },
  {
   "cell_type": "code",
   "execution_count": null,
   "id": "ce77c276",
   "metadata": {},
   "outputs": [
    {
     "name": "stdout",
     "output_type": "stream",
     "text": [
      "Suma con listas Python: 0.0074 segundos\n",
      "Suma con NumPy: 0.0009 segundos\n",
      "NumPy es 8.5x más rápido\n",
      "\n",
      "Original: [0 1 2 3 4 5 6 7 8 9]\n",
      "Después de modificar original[0]:\n",
      "Vista: [999   2   4   6   8]\n",
      "Copia: [0 2 4 6 8]\n"
     ]
    }
   ],
   "source": [
    "# Comparación de performance\n",
    "import time\n",
    "\n",
    "# Lista de Python vs NumPy array\n",
    "python_list = list(range(1000000))\n",
    "numpy_array = np.arange(1000000)\n",
    "\n",
    "# Suma con listas\n",
    "start = time.time()\n",
    "sum_list = sum(python_list)\n",
    "time_list = time.time() - start\n",
    "\n",
    "# Suma con NumPy\n",
    "start = time.time()\n",
    "sum_numpy = np.sum(numpy_array)\n",
    "time_numpy = time.time() - start\n",
    "\n",
    "print(f\"Suma con listas Python: {time_list:.4f} segundos\")\n",
    "print(f\"Suma con NumPy: {time_numpy:.4f} segundos\")\n",
    "print(f\"NumPy es {time_list/time_numpy:.1f}x más rápido\")\n",
    "\n",
    "# Copia vs vista\n",
    "original = np.arange(10)\n",
    "view = original[::2]  # vista\n",
    "copy = original[::2].copy()  # copia\n",
    "\n",
    "print(\"\\nOriginal:\", original)\n",
    "original[0] = 999\n",
    "print(\"Después de modificar original[0]:\")\n",
    "print(\"Vista:\", view)  # cambia porque es vista\n",
    "print(\"Copia:\", copy)  # no cambia porque es copia independiente"
   ]
  }
 ],
 "metadata": {
  "kernelspec": {
   "display_name": "edyp-s2-2025-c (3.11.2)",
   "language": "python",
   "name": "python3"
  },
  "language_info": {
   "codemirror_mode": {
    "name": "ipython",
    "version": 3
   },
   "file_extension": ".py",
   "mimetype": "text/x-python",
   "name": "python",
   "nbconvert_exporter": "python",
   "pygments_lexer": "ipython3",
   "version": "3.14.0"
  }
 },
 "nbformat": 4,
 "nbformat_minor": 5
}
