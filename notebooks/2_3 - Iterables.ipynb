{
 "cells": [
  {
   "cell_type": "markdown",
   "metadata": {},
   "source": [
    "## Iterables"
   ]
  },
  {
   "cell_type": "markdown",
   "metadata": {},
   "source": [
    "- Un iterable es cualquier objeto sobre el que se pueda realizar una iteración (como recorrerlo con un bucle `for`).\n",
    "- Los iterables pueden ser de cualquier tipo: listas, tuplas, diccionarios, cadenas de texto, rangos, etc.\n",
    "- Cuando se itera sobre un iterable, se obtiene uno de sus elementos a la vez."
   ]
  },
  {
   "cell_type": "markdown",
   "metadata": {},
   "source": [
    "#### Listas"
   ]
  },
  {
   "cell_type": "code",
   "execution_count": null,
   "metadata": {},
   "outputs": [],
   "source": [
    "numeros = [1, 2, 3, 4]   # < es mutable\n",
    "for numero in numeros:\n",
    "    print(numero)"
   ]
  },
  {
   "cell_type": "markdown",
   "metadata": {},
   "source": [
    "#### Tuplas"
   ]
  },
  {
   "cell_type": "code",
   "execution_count": null,
   "metadata": {},
   "outputs": [],
   "source": [
    "tupla = (10, 20, 30)      # < es inmutable\n",
    "for item in tupla:\n",
    "    print(item)"
   ]
  },
  {
   "cell_type": "markdown",
   "metadata": {},
   "source": [
    "#### Cadenas"
   ]
  },
  {
   "cell_type": "code",
   "execution_count": null,
   "metadata": {},
   "outputs": [],
   "source": [
    "texto = \"Hola\"\n",
    "for letra in texto:\n",
    "    print(letra)"
   ]
  },
  {
   "cell_type": "markdown",
   "metadata": {},
   "source": [
    "#### Rangos"
   ]
  },
  {
   "cell_type": "code",
   "execution_count": null,
   "metadata": {},
   "outputs": [],
   "source": [
    "for i in range(5):\n",
    "    print(i)"
   ]
  },
  {
   "cell_type": "code",
   "execution_count": null,
   "metadata": {},
   "outputs": [],
   "source": [
    "for i in range(3, 16, 2):\n",
    "    print(i)"
   ]
  },
  {
   "cell_type": "code",
   "execution_count": null,
   "metadata": {},
   "outputs": [],
   "source": [
    "for i in range(10, -1, -2):\n",
    "    print(i)"
   ]
  },
  {
   "cell_type": "markdown",
   "metadata": {},
   "source": [
    "Nota: dejamos afuera de esta explicación diccionarios y sets, que también son iterables, porque los vamos a ver en mayor profundidad en el transcurso de la materia."
   ]
  },
  {
   "cell_type": "markdown",
   "metadata": {},
   "source": [
    "### zip()"
   ]
  },
  {
   "cell_type": "markdown",
   "metadata": {},
   "source": [
    "`zip()` es una función *built-in* que permite comprimir varios iterables (listas, tuplas, etc.) en un único iterable de tuplas, donde cada tupla contiene los elementos correspondientes de cada iterable."
   ]
  },
  {
   "cell_type": "markdown",
   "metadata": {},
   "source": [
    "Su sintaxis es:\n",
    "```python\n",
    "zip(iterable1, iterable2, ...)\n",
    "```"
   ]
  },
  {
   "cell_type": "markdown",
   "metadata": {},
   "source": [
    "Sus parámetros son:\n",
    "\n",
    "- `iterable1`, `iterable2`, ...: Los iterables que se desean combinar."
   ]
  },
  {
   "cell_type": "markdown",
   "metadata": {},
   "source": [
    "**Retorna**: un iterador de tuplas, donde cada tupla contiene los elementos de los iterables proporcionados, tomados de forma \"paralela\"."
   ]
  },
  {
   "cell_type": "markdown",
   "metadata": {},
   "source": [
    "#### Ejemplos"
   ]
  },
  {
   "cell_type": "code",
   "execution_count": null,
   "metadata": {},
   "outputs": [],
   "source": [
    "nombres = [\"Alice\", \"Bob\", \"Charlie\"]\n",
    "edades = [25, 30, 35]\n",
    "\n",
    "combinados = list(zip(nombres, edades))\n",
    "print(combinados)"
   ]
  },
  {
   "cell_type": "markdown",
   "metadata": {},
   "source": [
    "Si las longitudes de los iterables difieren, `zip()` toma la menor de las longitudes posibles y descarta el resto de los elementos:"
   ]
  },
  {
   "cell_type": "code",
   "execution_count": null,
   "metadata": {},
   "outputs": [
    {
     "name": "stdout",
     "output_type": "stream",
     "text": [
      "[('Alice', 25), ('Bob', 30)]\n"
     ]
    }
   ],
   "source": [
    "nombres = [\"Alice\", \"Bob\"]\n",
    "edades = [25, 30, 35]\n",
    "\n",
    "combinados = list(zip(nombres, edades))\n",
    "print(combinados) # < el valor 35 no se va a ver"
   ]
  },
  {
   "cell_type": "markdown",
   "metadata": {},
   "source": [
    "`zip()` puede tomar `n` iterables. Por ejemplo, si le pasamos 3 listas:"
   ]
  },
  {
   "cell_type": "code",
   "execution_count": null,
   "metadata": {},
   "outputs": [],
   "source": [
    "nombres = [\"Alice\", \"Bob\", \"Charlie\"]\n",
    "edades = [25, 30, 35]\n",
    "ciudades = [\"New York\", \"Los Angeles\", \"Buenos Aires\"]\n",
    "\n",
    "combinados = list(zip(nombres, edades, ciudades))\n",
    "print(combinados)"
   ]
  },
  {
   "cell_type": "markdown",
   "metadata": {},
   "source": [
    "En lugar de castear a `list`, podemos utilizar el iterador que devuelve `zip()` para iterarlo con un bucle `for`:"
   ]
  },
  {
   "cell_type": "code",
   "execution_count": null,
   "metadata": {},
   "outputs": [],
   "source": [
    "nombres = [\"Alice\", \"Bob\", \"Charlie\"]\n",
    "edades = [25, 30, 35]\n",
    "ciudades = [\"New York\", \"Los Angeles\", \"Buenos Aires\"]\n",
    "\n",
    "for nombre, edad, ciudad in zip(nombres, edades, ciudades):\n",
    "    print(f\"- {nombre} tiene {edad} años y vive en {ciudad}.\")"
   ]
  },
  {
   "cell_type": "markdown",
   "metadata": {},
   "source": [
    "### enumerate()"
   ]
  },
  {
   "cell_type": "markdown",
   "metadata": {},
   "source": [
    "La función `enumerate()` es una función incorporada en Python que se utiliza para\n",
    "obtener el índice y el valor de los elementos en un iterable al mismo tiempo. Esto\n",
    "es útil cuando se necesita realizar un seguimiento de la posición de los elementos\n",
    "mientras se itera sobre los mismos."
   ]
  },
  {
   "cell_type": "markdown",
   "metadata": {},
   "source": [
    "Su sintaxis es:\n",
    "```python\n",
    "enumerate(iterable, start=0)\n",
    "```"
   ]
  },
  {
   "cell_type": "markdown",
   "metadata": {},
   "source": [
    "Sus parámetros son:\n",
    "\n",
    "- `iterable`: El objeto iterable que se desea recorrer.\n",
    "- `start`: El valor con el que comenzará el índice (por defecto es 0)."
   ]
  },
  {
   "cell_type": "markdown",
   "metadata": {},
   "source": [
    "**Retorna**: un iterador de tuplas, donde el primer elemento de cada tupla es el índice y el segundo es el valor del elemento del iterable."
   ]
  },
  {
   "cell_type": "markdown",
   "metadata": {},
   "source": [
    "#### Ejemplos"
   ]
  },
  {
   "cell_type": "markdown",
   "metadata": {},
   "source": [
    "- Si iteramos de la siguiente forma, veremos que \"perdemos\" el índice de la lista:"
   ]
  },
  {
   "cell_type": "code",
   "execution_count": null,
   "metadata": {},
   "outputs": [],
   "source": [
    "mis_frutas_favoritas = [\"manzana\", \"banana\", \"cereza\"]\n",
    "for fruta in mis_frutas_favoritas:\n",
    "    print(f\"Fruta: {fruta}\")"
   ]
  },
  {
   "cell_type": "markdown",
   "metadata": {},
   "source": [
    "- Una forma es recorrer el rango de números desde 0 hasta `len(mis_frutas_favoritas)` y utilizarlo para acceder a cada `fruta`:"
   ]
  },
  {
   "cell_type": "code",
   "execution_count": null,
   "metadata": {},
   "outputs": [],
   "source": [
    "mis_frutas_favoritas = [\"manzana\", \"banana\", \"cereza\"]\n",
    "for indice in range(len(mis_frutas_favoritas)):\n",
    "    fruta = mis_frutas_favoritas[indice]\n",
    "    print(f\"Índice: {indice}, Fruta: {fruta}\")"
   ]
  },
  {
   "cell_type": "markdown",
   "metadata": {},
   "source": [
    "- Una mejor forma es utilizar `enumerate()`:"
   ]
  },
  {
   "cell_type": "code",
   "execution_count": null,
   "metadata": {},
   "outputs": [],
   "source": [
    "mis_frutas_favoritas = [\"manzana\", \"banana\", \"cereza\"]\n",
    "for indice, fruta in enumerate(mis_frutas_favoritas):\n",
    "    print(f\"Índice: {indice}, Fruta: {fruta}\")"
   ]
  },
  {
   "cell_type": "markdown",
   "metadata": {},
   "source": [
    "### sorted()"
   ]
  },
  {
   "cell_type": "markdown",
   "metadata": {},
   "source": [
    "La función `sorted()` se utiliza para ordenar iterables de manera ascendente o descendente, sin modificar el iterable original. A diferencia de métodos como `.sort()` (que ordena una lista y la \"sobreescribe\"), `sorted()` siempre devuelve una **nueva** lista ordenada."
   ]
  },
  {
   "cell_type": "markdown",
   "metadata": {},
   "source": [
    "Su sintaxis es:\n",
    "```python\n",
    "sorted(iterable, key=None, reverse=False)\n",
    "```"
   ]
  },
  {
   "cell_type": "markdown",
   "metadata": {},
   "source": [
    "Sus parámetros son:\n",
    "\n",
    "- `iterable`: El iterable que se desea ordenar.\n",
    "- `key` (opcional): Una función que sirve como criterio de comparación. Se usa para extraer un valor de cada elemento del iterable para ordenar.\n",
    "- `reverse` (opcional): Si se establece en `True`, los elementos se ordenan en orden descendente. El valor por defecto es `False`, lo que significa orden ascendente."
   ]
  },
  {
   "cell_type": "markdown",
   "metadata": {},
   "source": [
    "**Retorna**: una nueva lista con los elementos ordenados."
   ]
  },
  {
   "cell_type": "markdown",
   "metadata": {},
   "source": [
    "#### Ejemplos"
   ]
  },
  {
   "cell_type": "code",
   "execution_count": null,
   "metadata": {},
   "outputs": [],
   "source": [
    "numeros = [4, 2, 9, 1, 5]\n",
    "ordenados = sorted(numeros)\n",
    "\n",
    "print(ordenados)"
   ]
  },
  {
   "cell_type": "code",
   "execution_count": null,
   "metadata": {},
   "outputs": [],
   "source": [
    "numeros = [4, 2, 9, 1, 5]\n",
    "ordenados_desc = sorted(numeros, reverse=True)\n",
    "\n",
    "print(ordenados_desc)"
   ]
  },
  {
   "cell_type": "markdown",
   "metadata": {},
   "source": [
    "- En este caso utilizamos una `lambda` para ordenar los items de la lista `fruta` en base a su longitud:"
   ]
  },
  {
   "cell_type": "code",
   "execution_count": null,
   "metadata": {},
   "outputs": [],
   "source": [
    "frutas = [\"manzana\", \"banana\", \"cereza\", \"kiwi\"]\n",
    "ordenadas_por_longitud = sorted(frutas, key=lambda x: len(x))\n",
    "\n",
    "print(ordenadas_por_longitud)"
   ]
  },
  {
   "cell_type": "markdown",
   "metadata": {},
   "source": [
    "- En este caso tenemos una lista de tuplas, donde el primer item de cada tupla representa el nombre de la fruta (str) y el segundo item, su precio (int). Utilizamos una `lambda` para ordenar las frutas en base a su precio:"
   ]
  },
  {
   "cell_type": "code",
   "execution_count": null,
   "metadata": {},
   "outputs": [],
   "source": [
    "frutas = [(\"manzana\", 300), (\"banana\", 100), (\"kiwi\", 500)]\n",
    "ordenadas_por_precio = sorted(frutas, key=lambda x: x[1])\n",
    "\n",
    "print(ordenadas_por_precio)"
   ]
  },
  {
   "cell_type": "markdown",
   "metadata": {},
   "source": [
    "### reversed()"
   ]
  },
  {
   "cell_type": "markdown",
   "metadata": {},
   "source": [
    "La función `reversed()` se utiliza para invertir un iterable. A diferencia de `sorted()`, `reversed()` simplemente invierte el orden de los elementos, devolviendo un nuevo iterador que produce los elementos en orden inverso."
   ]
  },
  {
   "cell_type": "markdown",
   "metadata": {},
   "source": [
    "Su sintaxis es:\n",
    "```python\n",
    "reversed(iterable)\n",
    "```"
   ]
  },
  {
   "cell_type": "markdown",
   "metadata": {},
   "source": [
    "Sus parámetros son:\n",
    "\n",
    "- `iterable`: El iterable que se desea \"reversar\"."
   ]
  },
  {
   "cell_type": "markdown",
   "metadata": {},
   "source": [
    "**Retorna**: un iterador que produce los elementos del iterable en orden inverso."
   ]
  },
  {
   "cell_type": "markdown",
   "metadata": {},
   "source": [
    "#### Ejemplos"
   ]
  },
  {
   "cell_type": "code",
   "execution_count": null,
   "metadata": {},
   "outputs": [],
   "source": [
    "numeros = [7, 3, 1, 5, 4]\n",
    "\n",
    "for numero in reversed(numeros):\n",
    "    print(numero)"
   ]
  },
  {
   "cell_type": "markdown",
   "metadata": {},
   "source": [
    "- Utilizamos `reversed()` para reversar sólo el iterable de las edades del siguiente zip:"
   ]
  },
  {
   "cell_type": "code",
   "execution_count": 4,
   "metadata": {},
   "outputs": [
    {
     "name": "stdout",
     "output_type": "stream",
     "text": [
      "- Alice tiene 35 años y vive en New York.\n",
      "- Bob tiene 30 años y vive en Los Angeles.\n",
      "- Charlie tiene 25 años y vive en Buenos Aires.\n"
     ]
    }
   ],
   "source": [
    "nombres = [\"Alice\", \"Bob\", \"Charlie\"]\n",
    "edades = [25, 30, 35]\n",
    "ciudades = [\"New York\", \"Los Angeles\", \"Buenos Aires\"]\n",
    "\n",
    "for nombre, edad, ciudad in zip(nombres, reversed(edades), ciudades):\n",
    "    print(f\"- {nombre} tiene {edad} años y vive en {ciudad}.\")"
   ]
  }
 ],
 "metadata": {
  "kernelspec": {
   "display_name": "venv",
   "language": "python",
   "name": "python3"
  },
  "language_info": {
   "codemirror_mode": {
    "name": "ipython",
    "version": 3
   },
   "file_extension": ".py",
   "mimetype": "text/x-python",
   "name": "python",
   "nbconvert_exporter": "python",
   "pygments_lexer": "ipython3",
   "version": "3.11.2"
  }
 },
 "nbformat": 4,
 "nbformat_minor": 2
}
