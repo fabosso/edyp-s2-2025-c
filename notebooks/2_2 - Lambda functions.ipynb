{
 "cells": [
  {
   "cell_type": "markdown",
   "metadata": {},
   "source": [
    "## Lambda functions"
   ]
  },
  {
   "cell_type": "markdown",
   "metadata": {},
   "source": [
    "Las funciones `lambda` son funciones anónimas (es decir, sin nombre) que se define\n",
    "en una única línea de código. Se utilizan cuando se trata de funciones cortas y rápidas,\n",
    "que no requiren la definición usual con `def`."
   ]
  },
  {
   "cell_type": "markdown",
   "metadata": {},
   "source": [
    "Su sintaxis es:\n",
    "```python\n",
    "lambda argumentos: expresión\n",
    "```\n",
    "Recordemos que la sintaxis para definir funciones en Python es:\n",
    "```python\n",
    "def nombre_función(argumentos):\n",
    "    # Cuerpo de la función (otras instrucciones)\n",
    "    return expresión  # (Opcional)\n",
    "```"
   ]
  },
  {
   "cell_type": "markdown",
   "metadata": {},
   "source": [
    "#### Ejemplos"
   ]
  },
  {
   "cell_type": "code",
   "execution_count": null,
   "metadata": {},
   "outputs": [
    {
     "ename": "",
     "evalue": "",
     "output_type": "error",
     "traceback": [
      "\u001b[1;31mLa ejecución de celdas con 'Python 3.11.2' requiere el paquete ipykernel.\n",
      "\u001b[1;31mEjecute el siguiente comando para instalar 'ipykernel' en el entorno de Python. comando \n",
      "\u001b[1;31m: '/bin/python3 -m pip install ipykernel -U --user --force-reinstall'"
     ]
    }
   ],
   "source": [
    "def sumar(x, y):\n",
    "    return x + y\n",
    "\n",
    "print(sumar(3,5))"
   ]
  },
  {
   "cell_type": "code",
   "execution_count": null,
   "metadata": {},
   "outputs": [],
   "source": [
    "sumar = lambda x, y: x + y\n",
    "\n",
    "print(sumar(3, 5))"
   ]
  },
  {
   "cell_type": "code",
   "execution_count": null,
   "metadata": {},
   "outputs": [],
   "source": [
    "cuadrado = lambda x: x ** 2\n",
    "\n",
    "print(cuadrado(4))"
   ]
  },
  {
   "cell_type": "code",
   "execution_count": null,
   "metadata": {},
   "outputs": [],
   "source": [
    "es_par = lambda x: x % 2 == 0\n",
    "\n",
    "print(es_par(7))"
   ]
  },
  {
   "cell_type": "code",
   "execution_count": null,
   "metadata": {},
   "outputs": [],
   "source": [
    "primera_letra = lambda palabra: palabra[0]\n",
    "\n",
    "print(primera_letra(\"Python\"))"
   ]
  }
 ],
 "metadata": {
  "kernelspec": {
   "display_name": "Python 3",
   "language": "python",
   "name": "python3"
  },
  "language_info": {
   "codemirror_mode": {
    "name": "ipython",
    "version": 3
   },
   "file_extension": ".py",
   "mimetype": "text/x-python",
   "name": "python",
   "nbconvert_exporter": "python",
   "pygments_lexer": "ipython3",
   "version": "3.11.2"
  }
 },
 "nbformat": 4,
 "nbformat_minor": 2
}
