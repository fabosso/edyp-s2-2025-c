{
 "cells": [
  {
   "cell_type": "markdown",
   "metadata": {},
   "source": [
    "## List comprehensions"
   ]
  },
  {
   "cell_type": "markdown",
   "metadata": {},
   "source": [
    "Las *list comprehensions* (comprensiones de listas) son una forma compacta y elegante de crear listas.\n",
    "Nos permiten generar una lista aplicando una expresión a cada elemento de un\n",
    "iterable en una única línea de código."
   ]
  },
  {
   "cell_type": "markdown",
   "metadata": {},
   "source": [
    "Su sintaxis es:\n",
    "```python\n",
    "[expresión for item in iterable if condición]\n",
    "```"
   ]
  },
  {
   "cell_type": "markdown",
   "metadata": {},
   "source": [
    "Esto es equivalente a:\n",
    "```python\n",
    "resultado = []\n",
    "for item in iterable:\n",
    "    if condición:\n",
    "        resultado.append(expresión)\n",
    "```"
   ]
  },
  {
   "cell_type": "markdown",
   "metadata": {},
   "source": [
    "Veamos algunos ejemplos:"
   ]
  },
  {
   "cell_type": "code",
   "execution_count": null,
   "metadata": {},
   "outputs": [],
   "source": [
    "a = [1, 2, 3, 4, 5]\n",
    "b = [2*x for x in a]\n",
    "\n",
    "print(b)"
   ]
  },
  {
   "cell_type": "code",
   "execution_count": null,
   "metadata": {},
   "outputs": [],
   "source": [
    "a = [1, 2, 3, 4, 5]\n",
    "b = [x**2 for x in a]\n",
    "\n",
    "print(b)"
   ]
  },
  {
   "cell_type": "markdown",
   "metadata": {},
   "source": [
    "Las list comprehensions son potentes porque nos permiten filtrar elementos de\n",
    "nuestros iterables de forma rápida y legible:"
   ]
  },
  {
   "cell_type": "code",
   "execution_count": null,
   "metadata": {},
   "outputs": [],
   "source": [
    "a = [1, -5, 4, 2, -2, 10]\n",
    "b = [x for x in a if x > 0]\n",
    "\n",
    "print(b)"
   ]
  },
  {
   "cell_type": "code",
   "execution_count": null,
   "metadata": {},
   "outputs": [],
   "source": [
    "palabras = [\"hola\", \"elefante\", \"sol\", \"mar\", \"programación\", \"Python\"]\n",
    "palabras_largas = [palabra for palabra in palabras if len(palabra) >= 5]\n",
    "\n",
    "print(palabras_largas)"
   ]
  },
  {
   "cell_type": "code",
   "execution_count": 1,
   "metadata": {},
   "outputs": [
    {
     "name": "stdout",
     "output_type": "stream",
     "text": [
      "['hola', 'a', 'todos']\n"
     ]
    }
   ],
   "source": [
    "bolsa_de_gatos = [\"hola\", 123, \"a\", False, 98.333, None, \"todos\"]\n",
    "solo_cadenas = [item for item in bolsa_de_gatos if isinstance(item, str)]\n",
    "\n",
    "print(solo_cadenas)"
   ]
  }
 ],
 "metadata": {
  "kernelspec": {
   "display_name": "venv",
   "language": "python",
   "name": "python3"
  },
  "language_info": {
   "codemirror_mode": {
    "name": "ipython",
    "version": 3
   },
   "file_extension": ".py",
   "mimetype": "text/x-python",
   "name": "python",
   "nbconvert_exporter": "python",
   "pygments_lexer": "ipython3",
   "version": "3.11.2"
  }
 },
 "nbformat": 4,
 "nbformat_minor": 2
}
