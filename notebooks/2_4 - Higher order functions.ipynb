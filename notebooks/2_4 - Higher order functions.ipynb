{
 "cells": [
  {
   "cell_type": "markdown",
   "metadata": {},
   "source": [
    "## Higher-order functions"
   ]
  },
  {
   "cell_type": "markdown",
   "metadata": {},
   "source": [
    "En Python, las *higher-order functions* (HOFs) son funciones que pueden:\n",
    "\n",
    "1. Recibir otra función como argumento, o\n",
    "2. Retornar otra función como resultado."
   ]
  },
  {
   "cell_type": "markdown",
   "metadata": {},
   "source": [
    "Veamos algunos ejemplos:"
   ]
  },
  {
   "cell_type": "code",
   "execution_count": 1,
   "metadata": {},
   "outputs": [
    {
     "name": "stdout",
     "output_type": "stream",
     "text": [
      "10\n"
     ]
    }
   ],
   "source": [
    "# (Esto no es una HOF)\n",
    "doble = lambda x: x * 2\n",
    "print(doble(5))"
   ]
  },
  {
   "cell_type": "code",
   "execution_count": null,
   "metadata": {},
   "outputs": [],
   "source": [
    "def aplicar_funcion(func, valor):\n",
    "    return func(valor)\n",
    "\n",
    "doble = lambda x: x * 2\n",
    "\n",
    "print(aplicar_funcion(doble, 5))"
   ]
  },
  {
   "cell_type": "code",
   "execution_count": null,
   "metadata": {},
   "outputs": [],
   "source": [
    "def crear_multiplicador(n):\n",
    "    return lambda x: x * n\n",
    "\n",
    "multiplicar_por_3 = crear_multiplicador(3)\n",
    "\n",
    "print(multiplicar_por_3(5))"
   ]
  },
  {
   "cell_type": "markdown",
   "metadata": {},
   "source": [
    "### filter()"
   ]
  },
  {
   "cell_type": "markdown",
   "metadata": {},
   "source": [
    "`filter()` es una *higher-order function* que permite filtrar elementos de un iterable según una condición dada."
   ]
  },
  {
   "cell_type": "markdown",
   "metadata": {},
   "source": [
    "Su sintaxis es:\n",
    "```python\n",
    "filter(función, iterable)\n",
    "```"
   ]
  },
  {
   "cell_type": "markdown",
   "metadata": {},
   "source": [
    "Sus parámetros son:\n",
    "\n",
    "- `función`: Una función que devuelve `True` o `False` para cada elemento del iterable. (Si esta condición es `True`, el elemento se \"queda\", sino, se \"filtra\").\n",
    "- `iterable`: La colección de elementos que queremos filtrar."
   ]
  },
  {
   "cell_type": "markdown",
   "metadata": {},
   "source": [
    "**Retorna**: un iterador con todos los elementos que cumplen la condición."
   ]
  },
  {
   "cell_type": "markdown",
   "metadata": {},
   "source": [
    "#### Ejemplos"
   ]
  },
  {
   "cell_type": "code",
   "execution_count": null,
   "metadata": {},
   "outputs": [],
   "source": [
    "numeros = [1, 2, 3, 4, 5, 6]\n",
    "pares_iterador = filter(lambda x: x % 2 == 0, numeros)\n",
    "pares = list(pares_iterador)\n",
    "\n",
    "print(pares)"
   ]
  },
  {
   "cell_type": "code",
   "execution_count": null,
   "metadata": {},
   "outputs": [],
   "source": [
    "palabras = [\"sol\", \"elefante\", \"luz\", \"programación\"]\n",
    "largas_iterador = filter(lambda p: len(p) > 5, palabras)\n",
    "largas = list(largas_iterador)\n",
    "\n",
    "print(largas)"
   ]
  },
  {
   "cell_type": "code",
   "execution_count": null,
   "metadata": {},
   "outputs": [],
   "source": [
    "valores = [0, 1, \"\", \"Python\", None, [], \"Hola\"]\n",
    "truthys = list(filter(lambda x: bool(x), valores))\n",
    "\n",
    "print(truthys)"
   ]
  },
  {
   "cell_type": "markdown",
   "metadata": {},
   "source": [
    "### map()"
   ]
  },
  {
   "cell_type": "markdown",
   "metadata": {},
   "source": [
    "`map()` es una higher-order function que se usa para aplicar (mapear) una función a cada\n",
    "uno de los elementos de un iterable y devolver un iterable nuevo con los resultados."
   ]
  },
  {
   "cell_type": "markdown",
   "metadata": {},
   "source": [
    "Su sintaxis es:\n",
    "```python\n",
    "map(función, iterable)\n",
    "```"
   ]
  },
  {
   "cell_type": "markdown",
   "metadata": {},
   "source": [
    "Sus parámetros son:\n",
    "\n",
    "- `función`: La función que se aplicará (mapeará) a cada elemento del iterable.\n",
    "- `iterable`: La colección de elementos sobre la que se aplicará la función."
   ]
  },
  {
   "cell_type": "markdown",
   "metadata": {},
   "source": [
    "**Retorna**: un iterador con todos los elementos transformados."
   ]
  },
  {
   "cell_type": "markdown",
   "metadata": {},
   "source": [
    "#### Ejemplos"
   ]
  },
  {
   "cell_type": "code",
   "execution_count": null,
   "metadata": {},
   "outputs": [],
   "source": [
    "numeros = [1, 2, 3, 4]\n",
    "cuadrados = list(map(lambda x: x ** 2, numeros))\n",
    "\n",
    "print(cuadrados)"
   ]
  },
  {
   "cell_type": "code",
   "execution_count": null,
   "metadata": {},
   "outputs": [],
   "source": [
    "palabras = [\"hola\", \"mundo\", \"python\"]\n",
    "mayusculas = list(map(lambda p: p.upper(), palabras))\n",
    "\n",
    "print(mayusculas)"
   ]
  },
  {
   "cell_type": "code",
   "execution_count": null,
   "metadata": {},
   "outputs": [],
   "source": [
    "lista_1 = [1, 2, 3]\n",
    "lista_2 = [4, 5, 6]\n",
    "\n",
    "sumas = list(map(lambda x, y: x + y, lista_1, lista_2))\n",
    "\n",
    "print(sumas)"
   ]
  },
  {
   "cell_type": "markdown",
   "metadata": {},
   "source": [
    "### sum()"
   ]
  },
  {
   "cell_type": "markdown",
   "metadata": {},
   "source": [
    "La función `sum()` se usa para calcular la suma de los elementos en un iterable de números."
   ]
  },
  {
   "cell_type": "markdown",
   "metadata": {},
   "source": [
    "Su sintaxis es:\n",
    "```python\n",
    "sum(iterable, start=0)\n",
    "```"
   ]
  },
  {
   "cell_type": "markdown",
   "metadata": {},
   "source": [
    "Sus parámetros son:\n",
    "\n",
    "- `iterable`: Una lista, tupla u otro objeto iterable **cuyos elementos sean sumables**.\n",
    "- `start` (opcional): Un valor inicial que se suma al resultado. Por defecto es 0."
   ]
  },
  {
   "cell_type": "markdown",
   "metadata": {},
   "source": [
    "**Retorna**: el resultado (numérico) de la suma de todos los elementos del iterable."
   ]
  },
  {
   "cell_type": "markdown",
   "metadata": {},
   "source": [
    "#### Ejemplos"
   ]
  },
  {
   "cell_type": "code",
   "execution_count": 3,
   "metadata": {},
   "outputs": [
    {
     "name": "stdout",
     "output_type": "stream",
     "text": [
      "15\n"
     ]
    }
   ],
   "source": [
    "numeros = [1, 2, 3, 4, 5]\n",
    "resultado = sum(numeros)\n",
    "\n",
    "print(resultado)"
   ]
  },
  {
   "cell_type": "markdown",
   "metadata": {},
   "source": [
    "El siguiente snippet da error (un `TypeError`):"
   ]
  },
  {
   "cell_type": "code",
   "execution_count": 6,
   "metadata": {},
   "outputs": [
    {
     "ename": "TypeError",
     "evalue": "unsupported operand type(s) for +: 'int' and 'str'",
     "output_type": "error",
     "traceback": [
      "\u001b[31m---------------------------------------------------------------------------\u001b[39m",
      "\u001b[31mTypeError\u001b[39m                                 Traceback (most recent call last)",
      "\u001b[36mCell\u001b[39m\u001b[36m \u001b[39m\u001b[32mIn[6]\u001b[39m\u001b[32m, line 2\u001b[39m\n\u001b[32m      1\u001b[39m cadenas = [\u001b[33m\"\u001b[39m\u001b[33mHola\u001b[39m\u001b[33m\"\u001b[39m, \u001b[33m\"\u001b[39m\u001b[33m \u001b[39m\u001b[33m\"\u001b[39m, \u001b[33m\"\u001b[39m\u001b[33mmundo\u001b[39m\u001b[33m\"\u001b[39m]\n\u001b[32m----> \u001b[39m\u001b[32m2\u001b[39m resultado = \u001b[38;5;28;43msum\u001b[39;49m\u001b[43m(\u001b[49m\u001b[43mcadenas\u001b[49m\u001b[43m)\u001b[49m\n\u001b[32m      4\u001b[39m \u001b[38;5;28mprint\u001b[39m(resultado)\n",
      "\u001b[31mTypeError\u001b[39m: unsupported operand type(s) for +: 'int' and 'str'"
     ]
    }
   ],
   "source": [
    "cadenas = [\"Hola\", \" \", \"mundo\"]\n",
    "resultado = sum(cadenas)\n",
    "\n",
    "print(resultado)"
   ]
  },
  {
   "cell_type": "markdown",
   "metadata": {},
   "source": [
    "Si queremos concatenar una lista de strings en una única string, tenemos que usar el método `join()`:"
   ]
  },
  {
   "cell_type": "code",
   "execution_count": 7,
   "metadata": {},
   "outputs": [
    {
     "name": "stdout",
     "output_type": "stream",
     "text": [
      "Hola mundo\n"
     ]
    }
   ],
   "source": [
    "cadenas = [\"Hola\", \" \", \"mundo\"]\n",
    "resultado = \"\".join(cadenas)\n",
    "\n",
    "print(resultado)"
   ]
  },
  {
   "cell_type": "markdown",
   "metadata": {},
   "source": [
    "Usamos `sum()` y `map()` para calcular el producto punto o escalar de dos vectores:"
   ]
  },
  {
   "cell_type": "code",
   "execution_count": 2,
   "metadata": {},
   "outputs": [
    {
     "name": "stdout",
     "output_type": "stream",
     "text": [
      "32\n"
     ]
    }
   ],
   "source": [
    "vector_a = [1, 2, 3]\n",
    "vector_b = [4, 5, 6]\n",
    "\n",
    "producto_punto = sum(map(lambda x, y: x * y, vector_a, vector_b))\n",
    "\n",
    "print(producto_punto)"
   ]
  },
  {
   "cell_type": "markdown",
   "metadata": {},
   "source": [
    "### reduce()"
   ]
  },
  {
   "cell_type": "markdown",
   "metadata": {},
   "source": [
    "La función `reduce()` pertenece al módulo `functools` y se usa para aplicar una función acumulativa a los elementos de un iterable, reduciéndolos a un único valor."
   ]
  },
  {
   "cell_type": "markdown",
   "metadata": {},
   "source": [
    "Su sintaxis es:\n",
    "```python\n",
    "from functools import reduce\n",
    "\n",
    "reduce(function, iterable, start)\n",
    "```"
   ]
  },
  {
   "cell_type": "markdown",
   "metadata": {},
   "source": [
    "Sus parámetros son:\n",
    "\n",
    "- `function`: Una función que recibe **dos** argumentos y devuelve **un** único valor.\n",
    "- `iterable`: Una lista, tupla u otro objeto iterable cuyos elementos serán reducidos\n",
    "- `start` (opcional): Un valor inicial para la reducción. Por defecto no se aplica."
   ]
  },
  {
   "cell_type": "markdown",
   "metadata": {},
   "source": [
    "**Retorna**: el resultado (numérico) de la acumulación de todos los elementos del iterable."
   ]
  },
  {
   "cell_type": "markdown",
   "metadata": {},
   "source": [
    "#### Ejemplos"
   ]
  },
  {
   "cell_type": "markdown",
   "metadata": {},
   "source": [
    "Suma:"
   ]
  },
  {
   "cell_type": "code",
   "execution_count": 8,
   "metadata": {},
   "outputs": [
    {
     "name": "stdout",
     "output_type": "stream",
     "text": [
      "10\n"
     ]
    }
   ],
   "source": [
    "from functools import reduce\n",
    "\n",
    "numeros = [1, 2, 3, 4]\n",
    "suma = reduce(lambda x, y: x + y, numeros)\n",
    "\n",
    "print(suma)"
   ]
  },
  {
   "cell_type": "markdown",
   "metadata": {},
   "source": [
    "Producto:"
   ]
  },
  {
   "cell_type": "code",
   "execution_count": null,
   "metadata": {},
   "outputs": [
    {
     "name": "stdout",
     "output_type": "stream",
     "text": [
      "120\n"
     ]
    }
   ],
   "source": [
    "from functools import reduce\n",
    "\n",
    "numeros = [1, 2, 3, 4, 5]\n",
    "producto = reduce(lambda x, y: x * y, numeros)\n",
    "\n",
    "print(producto)"
   ]
  },
  {
   "cell_type": "markdown",
   "metadata": {},
   "source": [
    "Máximo:"
   ]
  },
  {
   "cell_type": "code",
   "execution_count": 10,
   "metadata": {},
   "outputs": [
    {
     "name": "stdout",
     "output_type": "stream",
     "text": [
      "9\n"
     ]
    }
   ],
   "source": [
    "from functools import reduce\n",
    "\n",
    "numeros = [3, 7, 2, 9, 5]\n",
    "maximo = reduce(lambda x, y: x if x > y else y, numeros)\n",
    "\n",
    "print(maximo)"
   ]
  },
  {
   "cell_type": "markdown",
   "metadata": {},
   "source": [
    "Oración:"
   ]
  },
  {
   "cell_type": "code",
   "execution_count": 11,
   "metadata": {},
   "outputs": [
    {
     "name": "stdout",
     "output_type": "stream",
     "text": [
      "Hola mundo Python\n"
     ]
    }
   ],
   "source": [
    "from functools import reduce\n",
    "\n",
    "palabras = [\"Hola\", \"mundo\", \"Python\"]\n",
    "oracion = reduce(lambda x, y: x + \" \" + y, palabras)\n",
    "\n",
    "print(oracion)"
   ]
  }
 ],
 "metadata": {
  "kernelspec": {
   "display_name": "venv",
   "language": "python",
   "name": "python3"
  },
  "language_info": {
   "codemirror_mode": {
    "name": "ipython",
    "version": 3
   },
   "file_extension": ".py",
   "mimetype": "text/x-python",
   "name": "python",
   "nbconvert_exporter": "python",
   "pygments_lexer": "ipython3",
   "version": "3.11.2"
  }
 },
 "nbformat": 4,
 "nbformat_minor": 2
}
