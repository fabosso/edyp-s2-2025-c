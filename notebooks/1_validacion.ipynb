{
 "cells": [
  {
   "cell_type": "markdown",
   "metadata": {},
   "source": [
    "Queremos hacer una función que *valide* las novedades de la lista. Es decir:\n",
    "- retorne `True` si la novedad es una \"A\"\n",
    "- retorne `True` si la novedad es una \"P\"\n",
    "- retorne `True` si la novedad es una cadena numérica, p. ej. \"30\"\n",
    "- retorne `False` en cualquier otro caso"
   ]
  },
  {
   "cell_type": "markdown",
   "metadata": {},
   "source": [
    "El ejemplo que construimos entre todos en clase es el siguiente:"
   ]
  },
  {
   "cell_type": "code",
   "execution_count": 1,
   "metadata": {},
   "outputs": [],
   "source": [
    "def validar_dato(dato):\n",
    "    if type(dato) == str:\n",
    "        if dato == \"A\" or dato == \"P\":\n",
    "            return True\n",
    "        else:\n",
    "            try:\n",
    "                b = int(dato)\n",
    "            except:\n",
    "                return False\n",
    "            return True\n",
    "    else:\n",
    "        return False"
   ]
  },
  {
   "cell_type": "markdown",
   "metadata": {},
   "source": [
    "Utilizando *cláusulas de guarda* podemos hacer que la función sea mucho más simple:"
   ]
  },
  {
   "cell_type": "code",
   "execution_count": 2,
   "metadata": {},
   "outputs": [],
   "source": [
    "def validar_dato(dato):\n",
    "    if type(dato) != str:\n",
    "        return False\n",
    "    # En este punto (abajo del if), ya estoy seguro que dato es un str!\n",
    "    # Puedo utilizar el método isdigit de los str - ver:\n",
    "    # https://www.w3schools.com/python/ref_string_isdigit.asp\n",
    "    if dato.isdigit():\n",
    "        return True\n",
    "    # En este punto (abajo del if), ya estoy seguro que el dato es un str y que ya\n",
    "    # \"manejé\" las cadenas numéricas. Solo resta ver si es \"A\" o \"P\"\n",
    "    if dato == \"A\" or dato == \"P\":\n",
    "        return True\n",
    "    # En todos los demás casos, devolvemos que es inválido.\n",
    "    return False"
   ]
  },
  {
   "cell_type": "markdown",
   "metadata": {},
   "source": [
    "Podemos simplificar aún más la función haciendo que retorne el resultado de una\n",
    "expresión booleana:"
   ]
  },
  {
   "cell_type": "code",
   "execution_count": null,
   "metadata": {},
   "outputs": [],
   "source": [
    "def validar_dato(dato):\n",
    "    if type(dato) != str:\n",
    "        return False\n",
    "    # En este punto (abajo del if), ya estoy seguro que dato es un str!\n",
    "    return dato.isdigit() or dato in [\"A\", \"P\"]"
   ]
  }
 ],
 "metadata": {
  "kernelspec": {
   "display_name": ".venv",
   "language": "python",
   "name": "python3"
  },
  "language_info": {
   "codemirror_mode": {
    "name": "ipython",
    "version": 3
   },
   "file_extension": ".py",
   "mimetype": "text/x-python",
   "name": "python",
   "nbconvert_exporter": "python",
   "pygments_lexer": "ipython3",
   "version": "3.11.2"
  }
 },
 "nbformat": 4,
 "nbformat_minor": 2
}
